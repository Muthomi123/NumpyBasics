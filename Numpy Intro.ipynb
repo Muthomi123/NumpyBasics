{
 "cells": [
  {
   "cell_type": "markdown",
   "id": "6f354719-1d6c-4ff8-84b0-c5b67daca3d6",
   "metadata": {},
   "source": [
    "Numpy Arrays"
   ]
  },
  {
   "cell_type": "code",
   "execution_count": 1,
   "id": "3e3bd519-ec3e-4011-b26d-578f3e6573ad",
   "metadata": {},
   "outputs": [],
   "source": [
    "import sys\n",
    "import numpy as np"
   ]
  },
  {
   "cell_type": "code",
   "execution_count": 3,
   "id": "599a5a51-fd66-4a85-8d11-172d6774f8c4",
   "metadata": {},
   "outputs": [
    {
     "data": {
      "text/plain": [
       "array([1, 2, 3, 4, 5])"
      ]
     },
     "execution_count": 3,
     "metadata": {},
     "output_type": "execute_result"
    }
   ],
   "source": [
    "np.array([1,2,3,4,5])"
   ]
  },
  {
   "cell_type": "code",
   "execution_count": 4,
   "id": "4e650946-ff20-4157-9754-3c8b5c766718",
   "metadata": {},
   "outputs": [
    {
     "data": {
      "text/plain": [
       "array([1. , 0.5, 2. , 7.5])"
      ]
     },
     "execution_count": 4,
     "metadata": {},
     "output_type": "execute_result"
    }
   ],
   "source": [
    "np.array([1.,0.5,2.,7.5])"
   ]
  },
  {
   "cell_type": "code",
   "execution_count": 25,
   "id": "65182b00-61e9-494a-b91c-ed85fb0aac9c",
   "metadata": {},
   "outputs": [],
   "source": [
    "a=np.array([1,2,3,4,5])\n",
    "b=np.array([1.,0.5,2.,7.5])"
   ]
  },
  {
   "cell_type": "code",
   "execution_count": 7,
   "id": "a3686c9d-a33f-445e-b973-12e252631bf5",
   "metadata": {},
   "outputs": [
    {
     "data": {
      "text/plain": [
       "array([1, 2, 3, 4, 5])"
      ]
     },
     "execution_count": 7,
     "metadata": {},
     "output_type": "execute_result"
    }
   ],
   "source": [
    "a"
   ]
  },
  {
   "cell_type": "code",
   "execution_count": 8,
   "id": "3937ab2f-431b-46cd-b1c0-bb47d87ef55d",
   "metadata": {},
   "outputs": [
    {
     "data": {
      "text/plain": [
       "array([1. , 0.5, 2. , 7.5])"
      ]
     },
     "execution_count": 8,
     "metadata": {},
     "output_type": "execute_result"
    }
   ],
   "source": [
    "b"
   ]
  },
  {
   "cell_type": "code",
   "execution_count": 9,
   "id": "ac82b03b-c038-46ae-9f01-e8944c01366f",
   "metadata": {},
   "outputs": [
    {
     "data": {
      "text/plain": [
       "2"
      ]
     },
     "execution_count": 9,
     "metadata": {},
     "output_type": "execute_result"
    }
   ],
   "source": [
    "a[1]"
   ]
  },
  {
   "cell_type": "code",
   "execution_count": 10,
   "id": "869891e9-a9f1-453d-84e0-63eeeb66c442",
   "metadata": {},
   "outputs": [
    {
     "data": {
      "text/plain": [
       "array([1, 2, 3])"
      ]
     },
     "execution_count": 10,
     "metadata": {},
     "output_type": "execute_result"
    }
   ],
   "source": [
    "a[0:3]"
   ]
  },
  {
   "cell_type": "code",
   "execution_count": 11,
   "id": "6cdfe83b-482a-4eb8-a511-a07d113a2e68",
   "metadata": {},
   "outputs": [
    {
     "data": {
      "text/plain": [
       "array([1, 2, 3, 4])"
      ]
     },
     "execution_count": 11,
     "metadata": {},
     "output_type": "execute_result"
    }
   ],
   "source": [
    "a[:-1]"
   ]
  },
  {
   "cell_type": "code",
   "execution_count": 12,
   "id": "75e040a6-1744-468e-9da5-af02a89813f6",
   "metadata": {},
   "outputs": [
    {
     "data": {
      "text/plain": [
       "5"
      ]
     },
     "execution_count": 12,
     "metadata": {},
     "output_type": "execute_result"
    }
   ],
   "source": [
    "a[-1]"
   ]
  },
  {
   "cell_type": "code",
   "execution_count": 13,
   "id": "0c3b6f9e-c552-4b4d-b7de-9ac583b14346",
   "metadata": {},
   "outputs": [
    {
     "data": {
      "text/plain": [
       "dtype('int32')"
      ]
     },
     "execution_count": 13,
     "metadata": {},
     "output_type": "execute_result"
    }
   ],
   "source": [
    "a.dtype"
   ]
  },
  {
   "cell_type": "code",
   "execution_count": 14,
   "id": "8dc21af1-554e-476d-bb0c-6ac96f030437",
   "metadata": {},
   "outputs": [
    {
     "data": {
      "text/plain": [
       "dtype('float64')"
      ]
     },
     "execution_count": 14,
     "metadata": {},
     "output_type": "execute_result"
    }
   ],
   "source": [
    "b.dtype"
   ]
  },
  {
   "cell_type": "code",
   "execution_count": 24,
   "id": "996bd55d-f2e5-41b4-9ae4-9194843b6663",
   "metadata": {},
   "outputs": [
    {
     "data": {
      "text/plain": [
       "array([1, 2, 3, 4, 5], dtype=int16)"
      ]
     },
     "execution_count": 24,
     "metadata": {},
     "output_type": "execute_result"
    }
   ],
   "source": [
    "np.array([1,2,3,4,5], dtype=np.int16)"
   ]
  },
  {
   "cell_type": "code",
   "execution_count": 27,
   "id": "caaab7c5-7f8c-4b4a-9061-cdb11106d530",
   "metadata": {},
   "outputs": [
    {
     "data": {
      "text/plain": [
       "dtype('int32')"
      ]
     },
     "execution_count": 27,
     "metadata": {},
     "output_type": "execute_result"
    }
   ],
   "source": [
    "a.dtype"
   ]
  },
  {
   "cell_type": "markdown",
   "id": "67f80819-9b5b-49df-b24c-e090bf9661d0",
   "metadata": {},
   "source": [
    "DIMENSIONS AND SHAPES"
   ]
  },
  {
   "cell_type": "code",
   "execution_count": 7,
   "id": "6404c176-d535-430b-b1b8-d1c4d7d2d22e",
   "metadata": {},
   "outputs": [],
   "source": [
    "#2D Array\n",
    "C=np.array([\n",
    "    [1,2,3,4],\n",
    "    [5,6,7,8]])"
   ]
  },
  {
   "cell_type": "code",
   "execution_count": 8,
   "id": "9eac8afa-8b4e-4e9c-8383-5c16998a222f",
   "metadata": {},
   "outputs": [
    {
     "data": {
      "text/plain": [
       "(2, 4)"
      ]
     },
     "execution_count": 8,
     "metadata": {},
     "output_type": "execute_result"
    }
   ],
   "source": [
    "#Checking shape\n",
    "C.shape"
   ]
  },
  {
   "cell_type": "code",
   "execution_count": 9,
   "id": "75f7534f-c54c-46e9-afee-0960ddd762cf",
   "metadata": {},
   "outputs": [
    {
     "data": {
      "text/plain": [
       "2"
      ]
     },
     "execution_count": 9,
     "metadata": {},
     "output_type": "execute_result"
    }
   ],
   "source": [
    "#Checking dimension\n",
    "C.ndim"
   ]
  },
  {
   "cell_type": "code",
   "execution_count": 10,
   "id": "9c0b5dc9-1f67-44d0-ba6e-a9108c50e682",
   "metadata": {},
   "outputs": [
    {
     "data": {
      "text/plain": [
       "8"
      ]
     },
     "execution_count": 10,
     "metadata": {},
     "output_type": "execute_result"
    }
   ],
   "source": [
    "#Checking Size\n",
    "C.size"
   ]
  },
  {
   "cell_type": "code",
   "execution_count": 11,
   "id": "cb09364e-d494-40d6-bf2c-580054e03f1a",
   "metadata": {},
   "outputs": [],
   "source": [
    "#3D Array\n",
    "D=np.array([\n",
    "[\n",
    "    [6,7,8],\n",
    "    [9,10,11],\n",
    "],\n",
    "[\n",
    "    [12,13,14],\n",
    "    [15,16,17]\n",
    "]])"
   ]
  },
  {
   "cell_type": "code",
   "execution_count": 12,
   "id": "d026175b-6164-423d-ac01-1fafc1a15933",
   "metadata": {},
   "outputs": [
    {
     "data": {
      "text/plain": [
       "array([[[ 6,  7,  8],\n",
       "        [ 9, 10, 11]],\n",
       "\n",
       "       [[12, 13, 14],\n",
       "        [15, 16, 17]]])"
      ]
     },
     "execution_count": 12,
     "metadata": {},
     "output_type": "execute_result"
    }
   ],
   "source": [
    "D"
   ]
  },
  {
   "cell_type": "code",
   "execution_count": 13,
   "id": "638e1720-d373-41d6-a467-5ed8aad58d4a",
   "metadata": {},
   "outputs": [
    {
     "data": {
      "text/plain": [
       "(2, 2, 3)"
      ]
     },
     "execution_count": 13,
     "metadata": {},
     "output_type": "execute_result"
    }
   ],
   "source": [
    "D.shape"
   ]
  },
  {
   "cell_type": "code",
   "execution_count": 14,
   "id": "99399fd0-3d4c-43c3-8b52-a47176e64fee",
   "metadata": {},
   "outputs": [
    {
     "data": {
      "text/plain": [
       "3"
      ]
     },
     "execution_count": 14,
     "metadata": {},
     "output_type": "execute_result"
    }
   ],
   "source": [
    "D.ndim"
   ]
  },
  {
   "cell_type": "code",
   "execution_count": 15,
   "id": "fceec201-404b-49a7-884c-c08988e35b09",
   "metadata": {},
   "outputs": [
    {
     "data": {
      "text/plain": [
       "12"
      ]
     },
     "execution_count": 15,
     "metadata": {},
     "output_type": "execute_result"
    }
   ],
   "source": [
    "D.size"
   ]
  },
  {
   "cell_type": "markdown",
   "id": "0a2e43df-1cc1-4cbd-844b-c5d11d17ad5d",
   "metadata": {},
   "source": [
    "INDEXING AND SLICING MATRICES"
   ]
  },
  {
   "cell_type": "code",
   "execution_count": 18,
   "id": "b5b64d72-28e6-48ef-8f84-022980eb6fde",
   "metadata": {},
   "outputs": [],
   "source": [
    "#Square matrix\n",
    "E=np.array([\n",
    "#.  0. 1. 2\n",
    "    [1,2,3],#0\n",
    "    [4,5,6],#1\n",
    "    [7,8,9]])#2"
   ]
  },
  {
   "cell_type": "code",
   "execution_count": 20,
   "id": "09d7b7eb-e261-411b-934d-14f5f9ba5a69",
   "metadata": {},
   "outputs": [
    {
     "data": {
      "text/plain": [
       "array([4, 5, 6])"
      ]
     },
     "execution_count": 20,
     "metadata": {},
     "output_type": "execute_result"
    }
   ],
   "source": [
    "E[1]"
   ]
  },
  {
   "cell_type": "code",
   "execution_count": 24,
   "id": "b3a368d3-8789-4e46-9d53-9a6743280b34",
   "metadata": {},
   "outputs": [
    {
     "data": {
      "text/plain": [
       "3"
      ]
     },
     "execution_count": 24,
     "metadata": {},
     "output_type": "execute_result"
    }
   ],
   "source": [
    "E[0][2]"
   ]
  },
  {
   "cell_type": "code",
   "execution_count": 26,
   "id": "17a09376-9084-4fde-83e3-275c24ec6de5",
   "metadata": {},
   "outputs": [
    {
     "data": {
      "text/plain": [
       "3"
      ]
     },
     "execution_count": 26,
     "metadata": {},
     "output_type": "execute_result"
    }
   ],
   "source": [
    "#E[d1,d2,d3,d4....]\n",
    "E[0,2]"
   ]
  },
  {
   "cell_type": "code",
   "execution_count": 28,
   "id": "a8d1363f-a9a2-45e6-bf01-8ab4e95f8a73",
   "metadata": {},
   "outputs": [
    {
     "data": {
      "text/plain": [
       "array([[1, 2, 3],\n",
       "       [4, 5, 6],\n",
       "       [7, 8, 9]])"
      ]
     },
     "execution_count": 28,
     "metadata": {},
     "output_type": "execute_result"
    }
   ],
   "source": [
    "#Slicing\n",
    "E[:]#Slices everything"
   ]
  },
  {
   "cell_type": "code",
   "execution_count": 30,
   "id": "e0ca0346-aeff-46f6-ae73-75f2c155f0c9",
   "metadata": {},
   "outputs": [
    {
     "data": {
      "text/plain": [
       "array([[1, 2, 3],\n",
       "       [4, 5, 6]])"
      ]
     },
     "execution_count": 30,
     "metadata": {},
     "output_type": "execute_result"
    }
   ],
   "source": [
    "E[:2]#Slices the first 2 rows"
   ]
  },
  {
   "cell_type": "code",
   "execution_count": 31,
   "id": "abad0b02-6914-4342-8dff-fd345b8c86e6",
   "metadata": {},
   "outputs": [
    {
     "data": {
      "text/plain": [
       "array([[4, 5, 6]])"
      ]
     },
     "execution_count": 31,
     "metadata": {},
     "output_type": "execute_result"
    }
   ],
   "source": [
    "E[1:2]"
   ]
  },
  {
   "cell_type": "code",
   "execution_count": 33,
   "id": "ee2d8997-1fe2-49d3-b5ea-38cf2c7df6f7",
   "metadata": {},
   "outputs": [
    {
     "data": {
      "text/plain": [
       "array([[1, 2, 3],\n",
       "       [4, 5, 6],\n",
       "       [7, 8, 9]])"
      ]
     },
     "execution_count": 33,
     "metadata": {},
     "output_type": "execute_result"
    }
   ],
   "source": [
    "E[:,:]#Slices Everything"
   ]
  },
  {
   "cell_type": "code",
   "execution_count": 35,
   "id": "f04dbee2-47f6-473a-ae90-5dfd92ccc9a5",
   "metadata": {},
   "outputs": [
    {
     "data": {
      "text/plain": [
       "array([3, 6, 9])"
      ]
     },
     "execution_count": 35,
     "metadata": {},
     "output_type": "execute_result"
    }
   ],
   "source": [
    "E[:,2]#Slices the 3rd Coln of the matrix"
   ]
  },
  {
   "cell_type": "code",
   "execution_count": 37,
   "id": "42a03642-6438-42d1-9608-ddf61d56cb5f",
   "metadata": {},
   "outputs": [
    {
     "data": {
      "text/plain": [
       "array([[1, 2],\n",
       "       [4, 5],\n",
       "       [7, 8]])"
      ]
     },
     "execution_count": 37,
     "metadata": {},
     "output_type": "execute_result"
    }
   ],
   "source": [
    "E[:,:2]#Slices first 2 Colns"
   ]
  },
  {
   "cell_type": "code",
   "execution_count": 39,
   "id": "b9432e5a-4ec0-49ad-95f6-68faac6223c1",
   "metadata": {},
   "outputs": [],
   "source": [
    "#Assigning new values in an array\n",
    "E[0] = np.array([5, 4, 3])\n"
   ]
  },
  {
   "cell_type": "code",
   "execution_count": 40,
   "id": "c3332364-56ad-4a52-b3ac-8d2336c296ee",
   "metadata": {},
   "outputs": [
    {
     "data": {
      "text/plain": [
       "array([[5, 4, 3],\n",
       "       [4, 5, 6],\n",
       "       [7, 8, 9]])"
      ]
     },
     "execution_count": 40,
     "metadata": {},
     "output_type": "execute_result"
    }
   ],
   "source": [
    "E"
   ]
  },
  {
   "cell_type": "markdown",
   "id": "f234dd3c-1b04-4acc-8900-a1bf6f7a30f0",
   "metadata": {},
   "source": [
    "SUMMARY STATISTICS"
   ]
  },
  {
   "cell_type": "code",
   "execution_count": 42,
   "id": "4cd49eb0-a4b6-41a3-ac31-933920da1d64",
   "metadata": {},
   "outputs": [],
   "source": [
    "F=np.array([4,6,8,9])"
   ]
  },
  {
   "cell_type": "code",
   "execution_count": 45,
   "id": "75a07dc1-b2a3-462d-9241-4576c9303904",
   "metadata": {},
   "outputs": [
    {
     "data": {
      "text/plain": [
       "27"
      ]
     },
     "execution_count": 45,
     "metadata": {},
     "output_type": "execute_result"
    }
   ],
   "source": [
    "F.sum()#Sum of the array"
   ]
  },
  {
   "cell_type": "code",
   "execution_count": 46,
   "id": "eacdf802-a1e1-4757-af18-a9a082414301",
   "metadata": {},
   "outputs": [
    {
     "data": {
      "text/plain": [
       "6.75"
      ]
     },
     "execution_count": 46,
     "metadata": {},
     "output_type": "execute_result"
    }
   ],
   "source": [
    "F.mean()"
   ]
  },
  {
   "cell_type": "code",
   "execution_count": 47,
   "id": "9aa278a0-079e-4eb0-83ed-8599947aff34",
   "metadata": {},
   "outputs": [
    {
     "data": {
      "text/plain": [
       "1.920286436967152"
      ]
     },
     "execution_count": 47,
     "metadata": {},
     "output_type": "execute_result"
    }
   ],
   "source": [
    "F.std()"
   ]
  },
  {
   "cell_type": "code",
   "execution_count": 48,
   "id": "108986f6-324e-4fbc-bf37-0981245112a0",
   "metadata": {},
   "outputs": [
    {
     "data": {
      "text/plain": [
       "3.6875"
      ]
     },
     "execution_count": 48,
     "metadata": {},
     "output_type": "execute_result"
    }
   ],
   "source": [
    "F.var()"
   ]
  },
  {
   "cell_type": "code",
   "execution_count": 49,
   "id": "667c180a-75db-4528-8672-f56c06582a22",
   "metadata": {},
   "outputs": [
    {
     "data": {
      "text/plain": [
       "array([[5, 4, 3],\n",
       "       [4, 5, 6],\n",
       "       [7, 8, 9]])"
      ]
     },
     "execution_count": 49,
     "metadata": {},
     "output_type": "execute_result"
    }
   ],
   "source": [
    "E"
   ]
  },
  {
   "cell_type": "code",
   "execution_count": 50,
   "id": "ecfaee2c-1bd8-40d4-8d48-09f2ad97168e",
   "metadata": {},
   "outputs": [
    {
     "data": {
      "text/plain": [
       "51"
      ]
     },
     "execution_count": 50,
     "metadata": {},
     "output_type": "execute_result"
    }
   ],
   "source": [
    "E.sum()"
   ]
  },
  {
   "cell_type": "code",
   "execution_count": 51,
   "id": "bf6f31c9-e95c-44a7-a302-2b3affa154a0",
   "metadata": {},
   "outputs": [
    {
     "data": {
      "text/plain": [
       "5.666666666666667"
      ]
     },
     "execution_count": 51,
     "metadata": {},
     "output_type": "execute_result"
    }
   ],
   "source": [
    "E.mean()"
   ]
  },
  {
   "cell_type": "code",
   "execution_count": 52,
   "id": "7e9ecace-1794-40e8-b059-a2d4b4404717",
   "metadata": {},
   "outputs": [
    {
     "data": {
      "text/plain": [
       "1.8856180831641267"
      ]
     },
     "execution_count": 52,
     "metadata": {},
     "output_type": "execute_result"
    }
   ],
   "source": [
    "E.std()"
   ]
  },
  {
   "cell_type": "markdown",
   "id": "c2caa1f5-dca0-4468-8ad4-50813f1ce677",
   "metadata": {},
   "source": [
    "NUMPY OPERATIONS"
   ]
  },
  {
   "cell_type": "code",
   "execution_count": 53,
   "id": "252f4267-cbda-459e-b451-3e47bc54158f",
   "metadata": {},
   "outputs": [],
   "source": [
    "#BROADCASTING AND VECTORIZED OPERATIONS"
   ]
  },
  {
   "cell_type": "code",
   "execution_count": 54,
   "id": "02be6ecd-1185-4925-98d4-92f69ba06d37",
   "metadata": {},
   "outputs": [],
   "source": [
    "F=np.array([1,2,3,4])"
   ]
  },
  {
   "cell_type": "code",
   "execution_count": 55,
   "id": "d4829e07-5455-45ae-b6a3-8c73778bfd4d",
   "metadata": {},
   "outputs": [
    {
     "data": {
      "text/plain": [
       "array([1, 2, 3, 4])"
      ]
     },
     "execution_count": 55,
     "metadata": {},
     "output_type": "execute_result"
    }
   ],
   "source": [
    "F"
   ]
  },
  {
   "cell_type": "code",
   "execution_count": 56,
   "id": "393d4955-6fc2-43d7-b1a4-e43d16882291",
   "metadata": {},
   "outputs": [
    {
     "data": {
      "text/plain": [
       "array([11, 12, 13, 14])"
      ]
     },
     "execution_count": 56,
     "metadata": {},
     "output_type": "execute_result"
    }
   ],
   "source": [
    "F+10"
   ]
  },
  {
   "cell_type": "code",
   "execution_count": 57,
   "id": "6837896a-4c09-499b-8ee0-7bc72851a403",
   "metadata": {},
   "outputs": [
    {
     "data": {
      "text/plain": [
       "array([ 3,  6,  9, 12])"
      ]
     },
     "execution_count": 57,
     "metadata": {},
     "output_type": "execute_result"
    }
   ],
   "source": [
    "F*3"
   ]
  },
  {
   "cell_type": "code",
   "execution_count": 58,
   "id": "ae424007-5996-4211-8a01-14b0595b29e2",
   "metadata": {},
   "outputs": [],
   "source": [
    "G=np.arange(4)"
   ]
  },
  {
   "cell_type": "code",
   "execution_count": 59,
   "id": "57a1874d-c729-40bc-9f31-32030eedbae7",
   "metadata": {},
   "outputs": [
    {
     "data": {
      "text/plain": [
       "array([0, 1, 2, 3])"
      ]
     },
     "execution_count": 59,
     "metadata": {},
     "output_type": "execute_result"
    }
   ],
   "source": [
    "G"
   ]
  },
  {
   "cell_type": "code",
   "execution_count": 60,
   "id": "4bd86c75-3794-417a-b88d-39fcd724eae3",
   "metadata": {},
   "outputs": [
    {
     "data": {
      "text/plain": [
       "array([1, 3, 5, 7])"
      ]
     },
     "execution_count": 60,
     "metadata": {},
     "output_type": "execute_result"
    }
   ],
   "source": [
    "F+G"
   ]
  },
  {
   "cell_type": "code",
   "execution_count": 61,
   "id": "ebd52e68-4a9b-4cde-a771-c3ea7b803204",
   "metadata": {},
   "outputs": [
    {
     "data": {
      "text/plain": [
       "array([ 0,  2,  6, 12])"
      ]
     },
     "execution_count": 61,
     "metadata": {},
     "output_type": "execute_result"
    }
   ],
   "source": [
    "F*G"
   ]
  },
  {
   "cell_type": "code",
   "execution_count": 62,
   "id": "791ac2c3-3478-4573-a4ee-80ffe1e60e13",
   "metadata": {},
   "outputs": [],
   "source": [
    "#BOOLEAN ARRAYS"
   ]
  },
  {
   "cell_type": "code",
   "execution_count": 63,
   "id": "7b9b365a-a9ca-48f2-8bb2-28809944bcab",
   "metadata": {},
   "outputs": [],
   "source": [
    "H=np.arange(6)"
   ]
  },
  {
   "cell_type": "code",
   "execution_count": 64,
   "id": "26567e95-f46c-4149-aa73-e3c7341fa768",
   "metadata": {},
   "outputs": [
    {
     "data": {
      "text/plain": [
       "array([0, 1, 2, 3, 4, 5])"
      ]
     },
     "execution_count": 64,
     "metadata": {},
     "output_type": "execute_result"
    }
   ],
   "source": [
    "H"
   ]
  },
  {
   "cell_type": "code",
   "execution_count": 65,
   "id": "b763e503-be6f-410f-b902-9cbc2b4c1539",
   "metadata": {},
   "outputs": [
    {
     "data": {
      "text/plain": [
       "array([0, 1, 4])"
      ]
     },
     "execution_count": 65,
     "metadata": {},
     "output_type": "execute_result"
    }
   ],
   "source": [
    "H[[True,True,False,False,True,False]]"
   ]
  },
  {
   "cell_type": "code",
   "execution_count": 66,
   "id": "8c233ce9-6d79-4869-a10a-77978f1b4906",
   "metadata": {},
   "outputs": [
    {
     "data": {
      "text/plain": [
       "array([False, False, False,  True,  True,  True])"
      ]
     },
     "execution_count": 66,
     "metadata": {},
     "output_type": "execute_result"
    }
   ],
   "source": [
    "H>=3"
   ]
  },
  {
   "cell_type": "code",
   "execution_count": 68,
   "id": "aa2cf87f-4308-47fe-a1e6-26623c4ac9c1",
   "metadata": {},
   "outputs": [
    {
     "data": {
      "text/plain": [
       "array([3, 4, 5])"
      ]
     },
     "execution_count": 68,
     "metadata": {},
     "output_type": "execute_result"
    }
   ],
   "source": [
    "H[H>=3]"
   ]
  },
  {
   "cell_type": "code",
   "execution_count": 69,
   "id": "801357ff-20a5-4d66-8eb7-a11a9d56e265",
   "metadata": {},
   "outputs": [
    {
     "data": {
      "text/plain": [
       "2.5"
      ]
     },
     "execution_count": 69,
     "metadata": {},
     "output_type": "execute_result"
    }
   ],
   "source": [
    "H.mean()"
   ]
  },
  {
   "cell_type": "code",
   "execution_count": 70,
   "id": "c25a14a8-3ebb-49ea-bb49-5606c6a1d77f",
   "metadata": {},
   "outputs": [
    {
     "data": {
      "text/plain": [
       "array([3, 4, 5])"
      ]
     },
     "execution_count": 70,
     "metadata": {},
     "output_type": "execute_result"
    }
   ],
   "source": [
    "H[H > H.mean()]"
   ]
  },
  {
   "cell_type": "code",
   "execution_count": 71,
   "id": "cdb66c3c-88ef-4d4b-ab09-82adfd56df82",
   "metadata": {},
   "outputs": [
    {
     "data": {
      "text/plain": [
       "array([0, 1, 2])"
      ]
     },
     "execution_count": 71,
     "metadata": {},
     "output_type": "execute_result"
    }
   ],
   "source": [
    "H[~(H > H.mean())]"
   ]
  },
  {
   "cell_type": "code",
   "execution_count": 72,
   "id": "b4d48207-fcbd-48bb-bcdc-f575b1a67f3f",
   "metadata": {},
   "outputs": [
    {
     "data": {
      "text/plain": [
       "array([0, 1])"
      ]
     },
     "execution_count": 72,
     "metadata": {},
     "output_type": "execute_result"
    }
   ],
   "source": [
    "H[(H == 0) | (H == 1)]"
   ]
  },
  {
   "cell_type": "code",
   "execution_count": 75,
   "id": "4f048157-6cbd-46a9-bf1d-8bfd9fd24d57",
   "metadata": {},
   "outputs": [],
   "source": [
    "I = np.random.randint(50, size=(3, 3))"
   ]
  },
  {
   "cell_type": "code",
   "execution_count": 76,
   "id": "3efe940d-263e-4ca6-8c71-602a5fec2ffb",
   "metadata": {},
   "outputs": [
    {
     "data": {
      "text/plain": [
       "array([[ 0, 17, 28],\n",
       "       [46, 43, 26],\n",
       "       [26, 18, 24]])"
      ]
     },
     "execution_count": 76,
     "metadata": {},
     "output_type": "execute_result"
    }
   ],
   "source": [
    "I"
   ]
  },
  {
   "cell_type": "code",
   "execution_count": 77,
   "id": "093965cc-f5bb-4902-a3ce-097313920d99",
   "metadata": {},
   "outputs": [
    {
     "data": {
      "text/plain": [
       "array([ 0, 28, 43, 26, 24])"
      ]
     },
     "execution_count": 77,
     "metadata": {},
     "output_type": "execute_result"
    }
   ],
   "source": [
    "I[np.array([\n",
    "    [True, False, True],\n",
    "    [False, True, False],\n",
    "    [True, False, True]\n",
    "])]"
   ]
  },
  {
   "cell_type": "code",
   "execution_count": 78,
   "id": "51eda638-e0b7-418c-a556-3fe8324a9f68",
   "metadata": {},
   "outputs": [
    {
     "data": {
      "text/plain": [
       "array([[False, False, False],\n",
       "       [ True,  True, False],\n",
       "       [False, False, False]])"
      ]
     },
     "execution_count": 78,
     "metadata": {},
     "output_type": "execute_result"
    }
   ],
   "source": [
    "I > 30"
   ]
  },
  {
   "cell_type": "code",
   "execution_count": 79,
   "id": "3d49e315-6b56-47e0-b9dc-785860eabe61",
   "metadata": {},
   "outputs": [
    {
     "data": {
      "text/plain": [
       "array([46, 43])"
      ]
     },
     "execution_count": 79,
     "metadata": {},
     "output_type": "execute_result"
    }
   ],
   "source": [
    "I[I > 30]"
   ]
  },
  {
   "cell_type": "code",
   "execution_count": 80,
   "id": "72654944-ec25-478a-a893-cc33478ce92a",
   "metadata": {},
   "outputs": [],
   "source": [
    "#ALGEBRA AND SIZE"
   ]
  },
  {
   "cell_type": "code",
   "execution_count": 2,
   "id": "309ad609-b781-400a-b8ad-b15f6a90bdad",
   "metadata": {},
   "outputs": [],
   "source": [
    "A = np.array([\n",
    "    [1, 2, 3],\n",
    "    [4, 5, 6],\n",
    "    [7, 8, 9]\n",
    "])"
   ]
  },
  {
   "cell_type": "code",
   "execution_count": 3,
   "id": "e9dce617-21ea-4aa8-8216-2ca837c4a961",
   "metadata": {},
   "outputs": [],
   "source": [
    "B = np.array([\n",
    "    [6, 5],\n",
    "    [4, 3],\n",
    "    [2, 1]\n",
    "])"
   ]
  },
  {
   "cell_type": "code",
   "execution_count": 5,
   "id": "4155763e-b5e7-4b74-b24d-502c43753f53",
   "metadata": {},
   "outputs": [
    {
     "data": {
      "text/plain": [
       "array([[20, 14],\n",
       "       [56, 41],\n",
       "       [92, 68]])"
      ]
     },
     "execution_count": 5,
     "metadata": {},
     "output_type": "execute_result"
    }
   ],
   "source": [
    "A.dot(B) #Adds the matrice"
   ]
  },
  {
   "cell_type": "code",
   "execution_count": 6,
   "id": "df541513-1307-4a83-a2ba-932737952d8d",
   "metadata": {},
   "outputs": [
    {
     "data": {
      "text/plain": [
       "array([[20, 14],\n",
       "       [56, 41],\n",
       "       [92, 68]])"
      ]
     },
     "execution_count": 6,
     "metadata": {},
     "output_type": "execute_result"
    }
   ],
   "source": [
    "A @ B #Does the same task as the .dot function."
   ]
  },
  {
   "cell_type": "code",
   "execution_count": 8,
   "id": "f3f3bb37-3957-42c8-ad1a-7854e805bbd3",
   "metadata": {},
   "outputs": [
    {
     "data": {
      "text/plain": [
       "array([[6, 4, 2],\n",
       "       [5, 3, 1]])"
      ]
     },
     "execution_count": 8,
     "metadata": {},
     "output_type": "execute_result"
    }
   ],
   "source": [
    "B.T #In NumPy, the .T attribute is used to compute the transpose of an array. Transposing an array means switching its rows and columns."
   ]
  },
  {
   "cell_type": "code",
   "execution_count": 9,
   "id": "79082e8c-e65e-475e-94fc-8d50c7c4abca",
   "metadata": {},
   "outputs": [
    {
     "data": {
      "text/plain": [
       "array([[36, 48, 60],\n",
       "       [24, 33, 42]])"
      ]
     },
     "execution_count": 9,
     "metadata": {},
     "output_type": "execute_result"
    }
   ],
   "source": [
    "B.T @ A"
   ]
  },
  {
   "cell_type": "markdown",
   "id": "2b2caf04-dab2-4f8d-bdc5-1b6bc136b881",
   "metadata": {},
   "source": [
    "Useful Numpy functions"
   ]
  },
  {
   "cell_type": "raw",
   "id": "268b6064-b792-4d62-95ed-4fc473c17b25",
   "metadata": {},
   "source": [
    "Mathematical Functions:\r\n",
    "\r\n",
    "np.sin(), np.cos(), np.tan(): Trigonometric functions.\r\n",
    "np.exp(), np.log(), np.log10(): Exponential and logarithmic functions.\r\n",
    "np.sqrt(): Square root function.\r\n",
    "np.power(): Power nct\n",
    "\n",
    "\n",
    "ion.\r\n",
    "Statistical Functions:\r\n",
    "\r\n",
    "np.mean(): Compute the arithmetic mean along the specified axis.\r\n",
    "np.median(): Compute the median along the specified axis.\r\n",
    "np.std(): Compute the standard deviation along the specified axis.\r\n",
    "np.var(): Compute the variance along the specified axis.\r\n",
    "np.sum(): Compute the sum of array elements over the specified axis.\r\n",
    "np.min(), np.max(): Compute the minimum and maximum values ong the spe\n",
    "\n",
    "\n",
    "\n",
    "cified axis.\r\n",
    "Linear Algebra Functions:\r\n",
    "\r\n",
    "np.dot(): Dot product of two arrays.\r\n",
    "np.matmul(): Matrix multiplication of two arrays.\r\n",
    "np.linalg.inv(): Inverse of a matrix.\r\n",
    "np.linalg.det(): Determinant of a matrix.\r\n",
    "np.linalg.eig(): Eigenvalu and eigenvectors \n",
    "\n",
    "\n",
    "\n",
    "of a square matrix.\r\n",
    "Array Manipulation Functions:\r\n",
    "\r\n",
    "np.reshape(): Reshape an array.\r\n",
    "np.concatenate(), np.vstack(), np.hstack(): Concatenate arrays.\r\n",
    "np.split(): Split an array into multiple sub-arrays.\r\n",
    "np.flip(), np.transpose(): Flip or transpose arr .\r\n",
    "np.argsort(): Indices\n",
    "\n",
    "\n",
    "\n",
    " that would sort an array.\r\n",
    "Random Number Generation:\r\n",
    "\r\n",
    "np.random.rand(): Random values in a given shape.\r\n",
    "np.random.randn(): Random samples from the standard normal distrition.\r\n",
    "np.random.randint(): Ra\n",
    "\n",
    "\n",
    "ndom integers from low to high.\r\n",
    "Constants:\r\n",
    "\r\n",
    "np.pi: Mathematical constant π.\r\n",
    "np.e: Mathematical constant e."
   ]
  },
  {
   "cell_type": "code",
   "execution_count": null,
   "id": "f3e17225-1962-421c-bc3d-bb63c8d1b41b",
   "metadata": {},
   "outputs": [],
   "source": []
  },
  {
   "cell_type": "code",
   "execution_count": null,
   "id": "9f6821a1-e436-47d2-9ec3-ca86d3d9b369",
   "metadata": {},
   "outputs": [],
   "source": []
  },
  {
   "cell_type": "code",
   "execution_count": null,
   "id": "8c4d90d9-17e1-41d2-b85a-9c5359e98690",
   "metadata": {},
   "outputs": [],
   "source": []
  },
  {
   "cell_type": "code",
   "execution_count": null,
   "id": "1cedb397-14b7-4e7c-842c-9b47394fdffc",
   "metadata": {},
   "outputs": [],
   "source": []
  }
 ],
 "metadata": {
  "kernelspec": {
   "display_name": "Python 3 (ipykernel)",
   "language": "python",
   "name": "python3"
  },
  "language_info": {
   "codemirror_mode": {
    "name": "ipython",
    "version": 3
   },
   "file_extension": ".py",
   "mimetype": "text/x-python",
   "name": "python",
   "nbconvert_exporter": "python",
   "pygments_lexer": "ipython3",
   "version": "3.11.7"
  }
 },
 "nbformat": 4,
 "nbformat_minor": 5
}
